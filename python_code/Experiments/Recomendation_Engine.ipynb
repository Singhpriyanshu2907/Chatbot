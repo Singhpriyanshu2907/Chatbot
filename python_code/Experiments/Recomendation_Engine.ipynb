{
 "cells": [
  {
   "cell_type": "code",
   "execution_count": 23,
   "metadata": {},
   "outputs": [],
   "source": [
    "import kagglehub\n",
    "import os\n",
    "import zipfile\n",
    "import pandas as pd"
   ]
  },
  {
   "cell_type": "code",
   "execution_count": 10,
   "metadata": {},
   "outputs": [
    {
     "data": {
      "text/plain": [
       "'a:\\\\NLP Projects\\\\Chatbot\\\\python_code\\\\Experiments'"
      ]
     },
     "execution_count": 10,
     "metadata": {},
     "output_type": "execute_result"
    }
   ],
   "source": [
    "# checking the current working directory\n",
    "%pwd"
   ]
  },
  {
   "cell_type": "code",
   "execution_count": 8,
   "metadata": {},
   "outputs": [
    {
     "ename": "SyntaxError",
     "evalue": "invalid syntax (1397965987.py, line 2)",
     "output_type": "error",
     "traceback": [
      "  \u001b[36mCell\u001b[39m\u001b[36m \u001b[39m\u001b[32mIn[8]\u001b[39m\u001b[32m, line 2\u001b[39m\n\u001b[31m    \u001b[39m\u001b[31mcd ..\u001b[39m\n        ^\n\u001b[31mSyntaxError\u001b[39m\u001b[31m:\u001b[39m invalid syntax\n"
     ]
    }
   ],
   "source": [
    "## Moving a folder back\n",
    "cd .."
   ]
  },
  {
   "cell_type": "code",
   "execution_count": 21,
   "metadata": {},
   "outputs": [],
   "source": [
    "dataset_path = \"xavierberge/florist-shop-dataset\"\n",
    "output_dir = \"a:/NLP Projects/Chatbot/python_code/Dataset\""
   ]
  },
  {
   "cell_type": "code",
   "execution_count": 14,
   "metadata": {},
   "outputs": [],
   "source": [
    "# Create the output directory if it doesn't exist\n",
    "os.makedirs(output_dir, exist_ok=True)"
   ]
  },
  {
   "cell_type": "code",
   "execution_count": null,
   "metadata": {},
   "outputs": [],
   "source": [
    "# Download the dataset\n",
    "print(f\"Downloading dataset: {dataset_path}\")\n",
    "try:\n",
    "    zip_path = kagglehub.dataset_download(dataset_path, output_dir)\n",
    "    print(f\"Dataset downloaded to: {zip_path}\")\n",
    "\n",
    "    # Unzip the dataset\n",
    "    print(f\"Unzipping dataset to: {output_dir}\")\n",
    "    with zipfile.ZipFile(zip_path, 'r') as zip_ref:\n",
    "        zip_ref.extractall(output_dir)\n",
    "\n",
    "    print(\"Download and extraction complete!\")\n",
    "except Exception as e:\n",
    "    print(f\"Error: {e}\")"
   ]
  },
  {
   "cell_type": "code",
   "execution_count": null,
   "metadata": {},
   "outputs": [],
   "source": [
    "# Unzip the dataset\n",
    "print(f\"Unzipping dataset to: {output_dir}\")\n",
    "with zipfile.ZipFile(zip_path, 'r') as zip_ref:\n",
    "    zip_ref.extractall(output_dir)"
   ]
  },
  {
   "cell_type": "code",
   "execution_count": 35,
   "metadata": {},
   "outputs": [],
   "source": [
    "# Change the working directory\n",
    "new_directory = \"a:/NLP Projects/Chatbot/python_code/Dataset\"  # Replace with your desired path\n",
    "os.chdir(new_directory)"
   ]
  },
  {
   "cell_type": "code",
   "execution_count": 37,
   "metadata": {},
   "outputs": [
    {
     "name": "stdout",
     "output_type": "stream",
     "text": [
      "Current Working Directory: a:\\NLP Projects\\Chatbot\\python_code\\Dataset\n"
     ]
    }
   ],
   "source": [
    "# Print the current working directory\n",
    "print(\"Current Working Directory:\", os.getcwd())"
   ]
  },
  {
   "cell_type": "code",
   "execution_count": null,
   "metadata": {},
   "outputs": [],
   "source": [
    "python_code\\Dataset"
   ]
  },
  {
   "cell_type": "code",
   "execution_count": 47,
   "metadata": {},
   "outputs": [],
   "source": [
    "dataset1 = pd.read_csv('Accounts.csv')\n",
    "hirerachy = pd.read_csv('Plant_Hirecrachy.csv',encoding='Latin-1')\n",
    "sales = pd.read_csv('plant_sales.csv')"
   ]
  },
  {
   "cell_type": "code",
   "execution_count": 40,
   "metadata": {},
   "outputs": [
    {
     "data": {
      "text/html": [
       "<div>\n",
       "<style scoped>\n",
       "    .dataframe tbody tr th:only-of-type {\n",
       "        vertical-align: middle;\n",
       "    }\n",
       "\n",
       "    .dataframe tbody tr th {\n",
       "        vertical-align: top;\n",
       "    }\n",
       "\n",
       "    .dataframe thead th {\n",
       "        text-align: right;\n",
       "    }\n",
       "</style>\n",
       "<table border=\"1\" class=\"dataframe\">\n",
       "  <thead>\n",
       "    <tr style=\"text-align: right;\">\n",
       "      <th></th>\n",
       "      <th>country_code</th>\n",
       "      <th>Account</th>\n",
       "      <th>Master_id</th>\n",
       "      <th>Account_id</th>\n",
       "      <th>latitude2</th>\n",
       "      <th>longitude</th>\n",
       "      <th>country2</th>\n",
       "      <th>Postal_code</th>\n",
       "      <th>street_name</th>\n",
       "      <th>Street_number</th>\n",
       "    </tr>\n",
       "  </thead>\n",
       "  <tbody>\n",
       "    <tr>\n",
       "      <th>0</th>\n",
       "      <td>CA</td>\n",
       "      <td>Gerlach, Cassin and Parker</td>\n",
       "      <td>1599</td>\n",
       "      <td>1599-E6G-78670</td>\n",
       "      <td>45.989139</td>\n",
       "      <td>-67.241222</td>\n",
       "      <td>Canada</td>\n",
       "      <td>E6G</td>\n",
       "      <td>Oneill</td>\n",
       "      <td>78670</td>\n",
       "    </tr>\n",
       "    <tr>\n",
       "      <th>1</th>\n",
       "      <td>CN</td>\n",
       "      <td>Ziemann LLC</td>\n",
       "      <td>1227</td>\n",
       "      <td>1227--40</td>\n",
       "      <td>37.943121</td>\n",
       "      <td>115.217658</td>\n",
       "      <td>China</td>\n",
       "      <td>0</td>\n",
       "      <td>Kipling</td>\n",
       "      <td>40</td>\n",
       "    </tr>\n",
       "    <tr>\n",
       "      <th>2</th>\n",
       "      <td>CN</td>\n",
       "      <td>Medhurst, Aufderhar and Mosciski</td>\n",
       "      <td>1857</td>\n",
       "      <td>1857--758</td>\n",
       "      <td>26.170171</td>\n",
       "      <td>118.190467</td>\n",
       "      <td>China</td>\n",
       "      <td>0</td>\n",
       "      <td>Glendale</td>\n",
       "      <td>758</td>\n",
       "    </tr>\n",
       "    <tr>\n",
       "      <th>3</th>\n",
       "      <td>AR</td>\n",
       "      <td>Larson-Fritsch</td>\n",
       "      <td>1793</td>\n",
       "      <td>1793-6140-77</td>\n",
       "      <td>-33.916294</td>\n",
       "      <td>-64.389795</td>\n",
       "      <td>Argentina</td>\n",
       "      <td>6140</td>\n",
       "      <td>Manley</td>\n",
       "      <td>77</td>\n",
       "    </tr>\n",
       "    <tr>\n",
       "      <th>4</th>\n",
       "      <td>MX</td>\n",
       "      <td>Jast-Quigley</td>\n",
       "      <td>1725</td>\n",
       "      <td>1725-40230-69</td>\n",
       "      <td>18.559181</td>\n",
       "      <td>-99.598300</td>\n",
       "      <td>Mexico</td>\n",
       "      <td>40230</td>\n",
       "      <td>Leroy</td>\n",
       "      <td>69</td>\n",
       "    </tr>\n",
       "  </tbody>\n",
       "</table>\n",
       "</div>"
      ],
      "text/plain": [
       "  country_code                           Account  Master_id      Account_id  \\\n",
       "0           CA        Gerlach, Cassin and Parker       1599  1599-E6G-78670   \n",
       "1           CN                       Ziemann LLC       1227        1227--40   \n",
       "2           CN  Medhurst, Aufderhar and Mosciski       1857       1857--758   \n",
       "3           AR                    Larson-Fritsch       1793    1793-6140-77   \n",
       "4           MX                      Jast-Quigley       1725   1725-40230-69   \n",
       "\n",
       "   latitude2   longitude   country2 Postal_code street_name  Street_number  \n",
       "0  45.989139  -67.241222     Canada         E6G      Oneill          78670  \n",
       "1  37.943121  115.217658      China           0     Kipling             40  \n",
       "2  26.170171  118.190467      China           0    Glendale            758  \n",
       "3 -33.916294  -64.389795  Argentina        6140      Manley             77  \n",
       "4  18.559181  -99.598300     Mexico       40230       Leroy             69  "
      ]
     },
     "execution_count": 40,
     "metadata": {},
     "output_type": "execute_result"
    }
   ],
   "source": [
    "dataset.head()"
   ]
  },
  {
   "cell_type": "code",
   "execution_count": 45,
   "metadata": {},
   "outputs": [
    {
     "data": {
      "text/html": [
       "<div>\n",
       "<style scoped>\n",
       "    .dataframe tbody tr th:only-of-type {\n",
       "        vertical-align: middle;\n",
       "    }\n",
       "\n",
       "    .dataframe tbody tr th {\n",
       "        vertical-align: top;\n",
       "    }\n",
       "\n",
       "    .dataframe thead th {\n",
       "        text-align: right;\n",
       "    }\n",
       "</style>\n",
       "<table border=\"1\" class=\"dataframe\">\n",
       "  <thead>\n",
       "    <tr style=\"text-align: right;\">\n",
       "      <th></th>\n",
       "      <th>Product_Family</th>\n",
       "      <th>Product_Family_Id</th>\n",
       "      <th>Product_Group</th>\n",
       "      <th>Product_Group_id</th>\n",
       "      <th>Product_Name</th>\n",
       "      <th>Product_Name_id</th>\n",
       "      <th>Product_Size</th>\n",
       "      <th>Produt_Type</th>\n",
       "    </tr>\n",
       "  </thead>\n",
       "  <tbody>\n",
       "    <tr>\n",
       "      <th>0</th>\n",
       "      <td>Cucurbitaceae</td>\n",
       "      <td>1051</td>\n",
       "      <td>Gray's Bur Cucumber</td>\n",
       "      <td>3293</td>\n",
       "      <td>Chamaesyce celastroides (Boiss.) Croizat &amp; O. ...</td>\n",
       "      <td>2000</td>\n",
       "      <td>Small</td>\n",
       "      <td>Landscape</td>\n",
       "    </tr>\n",
       "    <tr>\n",
       "      <th>1</th>\n",
       "      <td>Platanaceae</td>\n",
       "      <td>1138</td>\n",
       "      <td>Arizona Sycamore</td>\n",
       "      <td>3658</td>\n",
       "      <td>Tetraplasandra waimeae Wawra</td>\n",
       "      <td>2001</td>\n",
       "      <td>Medium</td>\n",
       "      <td>Outdoor</td>\n",
       "    </tr>\n",
       "    <tr>\n",
       "      <th>2</th>\n",
       "      <td>Scrophulariaceae</td>\n",
       "      <td>1167</td>\n",
       "      <td>Little Elephantshead</td>\n",
       "      <td>3876</td>\n",
       "      <td>Iris ?ónelsonii Randolph</td>\n",
       "      <td>2002</td>\n",
       "      <td>Small</td>\n",
       "      <td>Outdoor</td>\n",
       "    </tr>\n",
       "    <tr>\n",
       "      <th>3</th>\n",
       "      <td>Euphorbiaceae</td>\n",
       "      <td>1065</td>\n",
       "      <td>'ekoko</td>\n",
       "      <td>3357</td>\n",
       "      <td>Acanthus L.</td>\n",
       "      <td>2003</td>\n",
       "      <td>Large</td>\n",
       "      <td>Outdoor</td>\n",
       "    </tr>\n",
       "    <tr>\n",
       "      <th>4</th>\n",
       "      <td>Amaranthaceae</td>\n",
       "      <td>1006</td>\n",
       "      <td>Philoxerus</td>\n",
       "      <td>3017</td>\n",
       "      <td>Aplectrum hyemale (Muhl. ex Willd.) Torr.</td>\n",
       "      <td>2004</td>\n",
       "      <td>Medium</td>\n",
       "      <td>Landscape</td>\n",
       "    </tr>\n",
       "  </tbody>\n",
       "</table>\n",
       "</div>"
      ],
      "text/plain": [
       "     Product_Family  Product_Family_Id         Product_Group  \\\n",
       "0     Cucurbitaceae               1051   Gray's Bur Cucumber   \n",
       "1       Platanaceae               1138      Arizona Sycamore   \n",
       "2  Scrophulariaceae               1167  Little Elephantshead   \n",
       "3     Euphorbiaceae               1065                'ekoko   \n",
       "4     Amaranthaceae               1006            Philoxerus   \n",
       "\n",
       "   Product_Group_id                                       Product_Name  \\\n",
       "0              3293  Chamaesyce celastroides (Boiss.) Croizat & O. ...   \n",
       "1              3658                       Tetraplasandra waimeae Wawra   \n",
       "2              3876                           Iris ?ónelsonii Randolph   \n",
       "3              3357                                        Acanthus L.   \n",
       "4              3017          Aplectrum hyemale (Muhl. ex Willd.) Torr.   \n",
       "\n",
       "   Product_Name_id Product_Size Produt_Type  \n",
       "0             2000        Small   Landscape  \n",
       "1             2001       Medium     Outdoor  \n",
       "2             2002        Small     Outdoor  \n",
       "3             2003        Large     Outdoor  \n",
       "4             2004       Medium   Landscape  "
      ]
     },
     "execution_count": 45,
     "metadata": {},
     "output_type": "execute_result"
    }
   ],
   "source": [
    "hirerachy.head()"
   ]
  },
  {
   "cell_type": "code",
   "execution_count": 48,
   "metadata": {},
   "outputs": [
    {
     "data": {
      "text/html": [
       "<div>\n",
       "<style scoped>\n",
       "    .dataframe tbody tr th:only-of-type {\n",
       "        vertical-align: middle;\n",
       "    }\n",
       "\n",
       "    .dataframe tbody tr th {\n",
       "        vertical-align: top;\n",
       "    }\n",
       "\n",
       "    .dataframe thead th {\n",
       "        text-align: right;\n",
       "    }\n",
       "</style>\n",
       "<table border=\"1\" class=\"dataframe\">\n",
       "  <thead>\n",
       "    <tr style=\"text-align: right;\">\n",
       "      <th></th>\n",
       "      <th>Product_id</th>\n",
       "      <th>Sales_USD</th>\n",
       "      <th>quantity</th>\n",
       "      <th>Price_USD</th>\n",
       "      <th>COGS_USD</th>\n",
       "      <th>Date_Time</th>\n",
       "      <th>Account_id</th>\n",
       "    </tr>\n",
       "  </thead>\n",
       "  <tbody>\n",
       "    <tr>\n",
       "      <th>0</th>\n",
       "      <td>2625</td>\n",
       "      <td>16156.56</td>\n",
       "      <td>502.00</td>\n",
       "      <td>32.184382</td>\n",
       "      <td>14104.67688</td>\n",
       "      <td>3/29/2024</td>\n",
       "      <td>1599-E6G-78670</td>\n",
       "    </tr>\n",
       "    <tr>\n",
       "      <th>1</th>\n",
       "      <td>2569</td>\n",
       "      <td>13831.29</td>\n",
       "      <td>679.92</td>\n",
       "      <td>20.342526</td>\n",
       "      <td>10470.28653</td>\n",
       "      <td>7/13/2022</td>\n",
       "      <td>1227--40</td>\n",
       "    </tr>\n",
       "    <tr>\n",
       "      <th>2</th>\n",
       "      <td>2195</td>\n",
       "      <td>17402.14</td>\n",
       "      <td>925.66</td>\n",
       "      <td>18.799710</td>\n",
       "      <td>10528.29470</td>\n",
       "      <td>4/5/2023</td>\n",
       "      <td>1857--758</td>\n",
       "    </tr>\n",
       "    <tr>\n",
       "      <th>3</th>\n",
       "      <td>2530</td>\n",
       "      <td>15866.42</td>\n",
       "      <td>809.78</td>\n",
       "      <td>19.593495</td>\n",
       "      <td>12883.53304</td>\n",
       "      <td>9/24/2022</td>\n",
       "      <td>1793-6140-77</td>\n",
       "    </tr>\n",
       "    <tr>\n",
       "      <th>4</th>\n",
       "      <td>2889</td>\n",
       "      <td>6200.48</td>\n",
       "      <td>311.43</td>\n",
       "      <td>19.909707</td>\n",
       "      <td>5388.21712</td>\n",
       "      <td>10/19/2023</td>\n",
       "      <td>1725-40230-69</td>\n",
       "    </tr>\n",
       "  </tbody>\n",
       "</table>\n",
       "</div>"
      ],
      "text/plain": [
       "   Product_id  Sales_USD  quantity  Price_USD     COGS_USD   Date_Time  \\\n",
       "0        2625   16156.56    502.00  32.184382  14104.67688   3/29/2024   \n",
       "1        2569   13831.29    679.92  20.342526  10470.28653   7/13/2022   \n",
       "2        2195   17402.14    925.66  18.799710  10528.29470    4/5/2023   \n",
       "3        2530   15866.42    809.78  19.593495  12883.53304   9/24/2022   \n",
       "4        2889    6200.48    311.43  19.909707   5388.21712  10/19/2023   \n",
       "\n",
       "       Account_id  \n",
       "0  1599-E6G-78670  \n",
       "1        1227--40  \n",
       "2       1857--758  \n",
       "3    1793-6140-77  \n",
       "4   1725-40230-69  "
      ]
     },
     "execution_count": 48,
     "metadata": {},
     "output_type": "execute_result"
    }
   ],
   "source": [
    "sales.head()"
   ]
  },
  {
   "cell_type": "code",
   "execution_count": null,
   "metadata": {},
   "outputs": [],
   "source": []
  },
  {
   "cell_type": "code",
   "execution_count": null,
   "metadata": {},
   "outputs": [],
   "source": []
  }
 ],
 "metadata": {
  "kernelspec": {
   "display_name": "chatbot",
   "language": "python",
   "name": "python3"
  },
  "language_info": {
   "codemirror_mode": {
    "name": "ipython",
    "version": 3
   },
   "file_extension": ".py",
   "mimetype": "text/x-python",
   "name": "python",
   "nbconvert_exporter": "python",
   "pygments_lexer": "ipython3",
   "version": "3.11.11"
  }
 },
 "nbformat": 4,
 "nbformat_minor": 2
}
