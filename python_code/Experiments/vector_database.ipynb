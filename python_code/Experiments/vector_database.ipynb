{
 "cells": [
  {
   "cell_type": "code",
   "execution_count": 1,
   "metadata": {},
   "outputs": [
    {
     "name": "stderr",
     "output_type": "stream",
     "text": [
      "c:\\Users\\priya\\anaconda3\\envs\\chatbot\\Lib\\site-packages\\tqdm\\auto.py:21: TqdmWarning: IProgress not found. Please update jupyter and ipywidgets. See https://ipywidgets.readthedocs.io/en/stable/user_install.html\n",
      "  from .autonotebook import tqdm as notebook_tqdm\n"
     ]
    }
   ],
   "source": [
    "# # %% [markdown]\n",
    "# # # Text Embeddings with Amazon Titan and FAISS Index Creation\n",
    "# # This notebook processes text files using Amazon Titan Embeddings and builds a FAISS index\n",
    "\n",
    "# # %%\n",
    "# # Install required packages\n",
    "# !pip install faiss-cpu numpy boto3 tqdm\n",
    "\n",
    "# %%\n",
    "import os\n",
    "import json\n",
    "import numpy as np\n",
    "import boto3\n",
    "import faiss\n",
    "from tqdm.auto import tqdm"
   ]
  },
  {
   "cell_type": "code",
   "execution_count": 3,
   "metadata": {},
   "outputs": [],
   "source": [
    "# %% [markdown]\n",
    "# ## 1. Configuration\n",
    "\n",
    "# %%\n",
    "# Configuration\n",
    "TEXT_FILES_DIR = r\"A:\\NLP Projects\\Chatbot\\python_code\\products\" # Directory containing your .txt files\n",
    "FAISS_INDEX_PATH = \"plantify_faiss_index.index\"  # Where to save the FAISS index\n",
    "METADATA_PATH = \"metadata.json\"             # File to store document metadata\n",
    "EMBEDDING_DIMENSIONS = 512                 # Titan Embed v2 uses 512 dimensions"
   ]
  },
  {
   "cell_type": "code",
   "execution_count": 4,
   "metadata": {},
   "outputs": [
    {
     "name": "stdout",
     "output_type": "stream",
     "text": [
      "Found 2 text files for processing\n"
     ]
    }
   ],
   "source": [
    "\n",
    "# AWS Configuration\n",
    "AWS_REGION = \"us-east-1\"                   # Change to your region\n",
    "BEDROCK_MODEL_ID = \"amazon.titan-embed-text-v2:0\"\n",
    "\n",
    "# %%\n",
    "# Initialize AWS Bedrock client\n",
    "bedrock_runtime = boto3.client(\n",
    "    service_name='bedrock-runtime',\n",
    "    region_name=AWS_REGION\n",
    ")\n",
    "\n",
    "# Verify text files directory\n",
    "if not os.path.exists(TEXT_FILES_DIR):\n",
    "    raise FileNotFoundError(f\"Directory not found: {TEXT_FILES_DIR}\")\n",
    "\n",
    "txt_files = [f for f in os.listdir(TEXT_FILES_DIR) if f.endswith('.txt')]\n",
    "print(f\"Found {len(txt_files)} text files for processing\")"
   ]
  },
  {
   "cell_type": "code",
   "execution_count": 5,
   "metadata": {},
   "outputs": [],
   "source": [
    "# %% [markdown]\n",
    "# ## 2. Embedding Generation with Amazon Titan\n",
    "\n",
    "# %%\n",
    "def get_titan_embeddings(text):\n",
    "    \"\"\"Get embeddings for text using Amazon Titan model\"\"\"\n",
    "    body = json.dumps({\n",
    "        \"inputText\": text,\n",
    "        \"dimensions\": EMBEDDING_DIMENSIONS,\n",
    "        \"normalize\": True\n",
    "    })\n",
    "    \n",
    "    response = bedrock_runtime.invoke_model(\n",
    "        body=body,\n",
    "        modelId=BEDROCK_MODEL_ID,\n",
    "        accept=\"*/*\",\n",
    "        contentType=\"application/json\"\n",
    "    )\n",
    "    \n",
    "    response_body = json.loads(response['body'].read())\n",
    "    return np.array(response_body['embedding'], dtype=np.float32)\n",
    "\n",
    "def batch_embed_texts(texts, batch_size=10):\n",
    "    \"\"\"Embed texts in batches\"\"\"\n",
    "    embeddings = []\n",
    "    for i in tqdm(range(0, len(texts), batch_size)):\n",
    "        batch = texts[i:i + batch_size]\n",
    "        batch_embeddings = [get_titan_embeddings(text) for text in batch]\n",
    "        embeddings.extend(batch_embeddings)\n",
    "    return np.vstack(embeddings)\n"
   ]
  },
  {
   "cell_type": "code",
   "execution_count": 7,
   "metadata": {},
   "outputs": [
    {
     "name": "stderr",
     "output_type": "stream",
     "text": [
      "100%|██████████| 3/3 [00:00<00:00, 551.28it/s]"
     ]
    },
    {
     "name": "stdout",
     "output_type": "stream",
     "text": [
      "Created 9 text chunks from 2 files\n"
     ]
    },
    {
     "name": "stderr",
     "output_type": "stream",
     "text": [
      "\n"
     ]
    }
   ],
   "source": [
    "# %% [markdown]\n",
    "# ## 3. Process Text Files\n",
    "\n",
    "# %%\n",
    "def process_text_files(text_files_dir):\n",
    "    \"\"\"Process all text files and generate chunks with metadata\"\"\"\n",
    "    text_chunks = []\n",
    "    metadata_records = []\n",
    "    \n",
    "    for filename in tqdm(os.listdir(text_files_dir)):\n",
    "        if not filename.endswith('.txt'):\n",
    "            continue\n",
    "            \n",
    "        file_path = os.path.join(text_files_dir, filename)\n",
    "        with open(file_path, 'r', encoding='utf-8') as f:\n",
    "            text = f.read()\n",
    "            \n",
    "        # Basic chunking - adjust as needed\n",
    "        chunks = [text[i:i+500] for i in range(0, len(text), 500)]  # 500 character chunks\n",
    "        \n",
    "        for i, chunk in enumerate(chunks):\n",
    "            text_chunks.append(chunk)\n",
    "            metadata_records.append({\n",
    "                \"source_file\": filename,\n",
    "                \"chunk_id\": i,\n",
    "                \"start_char\": i * 500,\n",
    "                \"end_char\": min((i + 1) * 500, len(text))\n",
    "            })\n",
    "            \n",
    "    return text_chunks, metadata_records\n",
    "\n",
    "# %%\n",
    "# Process all text files\n",
    "text_chunks, metadata = process_text_files(TEXT_FILES_DIR)\n",
    "print(f\"Created {len(text_chunks)} text chunks from {len(txt_files)} files\")"
   ]
  },
  {
   "cell_type": "code",
   "execution_count": 8,
   "metadata": {},
   "outputs": [
    {
     "name": "stdout",
     "output_type": "stream",
     "text": [
      "Generating embeddings with Amazon Titan...\n"
     ]
    },
    {
     "name": "stderr",
     "output_type": "stream",
     "text": [
      "100%|██████████| 1/1 [00:09<00:00,  9.57s/it]"
     ]
    },
    {
     "name": "stdout",
     "output_type": "stream",
     "text": [
      "Embeddings shape: (9, 512)\n"
     ]
    },
    {
     "name": "stderr",
     "output_type": "stream",
     "text": [
      "\n"
     ]
    }
   ],
   "source": [
    "# %% [markdown]\n",
    "# ## 4. Generate Embeddings with Amazon Titan\n",
    "\n",
    "# %%\n",
    "# Generate embeddings for all text chunks\n",
    "print(\"Generating embeddings with Amazon Titan...\")\n",
    "embeddings = batch_embed_texts(text_chunks)\n",
    "print(f\"Embeddings shape: {embeddings.shape}\")  # (num_chunks, 512)"
   ]
  },
  {
   "cell_type": "code",
   "execution_count": 10,
   "metadata": {},
   "outputs": [
    {
     "name": "stdout",
     "output_type": "stream",
     "text": [
      "FAISS index contains 9 vectors\n",
      "Saved FAISS index to plantify_faiss_index.index\n",
      "Saved metadata to metadata.json\n"
     ]
    }
   ],
   "source": [
    "# %% [markdown]\n",
    "# ## 5. Create and Save FAISS Index\n",
    "\n",
    "# %%\n",
    "def create_faiss_index(embeddings):\n",
    "    \"\"\"Create and return a FAISS index\"\"\"\n",
    "    dimension = embeddings.shape[1]\n",
    "    index = faiss.IndexFlatIP(dimension)  # Using Inner Product for cosine similarity\n",
    "    \n",
    "    # No need to normalize since Titan embeddings are already normalized\n",
    "    index.add(embeddings)\n",
    "    return index\n",
    "\n",
    "# %%\n",
    "# Create FAISS index\n",
    "index = create_faiss_index(embeddings)\n",
    "print(f\"FAISS index contains {index.ntotal} vectors\")\n",
    "\n",
    "# %%\n",
    "# Save the FAISS index\n",
    "faiss.write_index(index, FAISS_INDEX_PATH)\n",
    "print(f\"Saved FAISS index to {FAISS_INDEX_PATH}\")\n",
    "\n",
    "# %%\n",
    "# Save metadata\n",
    "with open(METADATA_PATH, 'w') as f:\n",
    "    json.dump(metadata, f)\n",
    "print(f\"Saved metadata to {METADATA_PATH}\")"
   ]
  },
  {
   "cell_type": "code",
   "execution_count": 15,
   "metadata": {},
   "outputs": [
    {
     "name": "stdout",
     "output_type": "stream",
     "text": [
      "Verified index loading. Contains 9 vectors\n"
     ]
    }
   ],
   "source": [
    "# %% [markdown]\n",
    "# ## 6. Verification\n",
    "\n",
    "# %%\n",
    "# Verify the saved index can be loaded\n",
    "test_index = faiss.read_index(FAISS_INDEX_PATH)\n",
    "print(f\"Verified index loading. Contains {test_index.ntotal} vectors\")\n",
    "\n",
    "# %%\n",
    "# Sample search function\n",
    "def search_index(query, index, metadata, k=3):\n",
    "    \"\"\"Search the FAISS index for similar chunks\"\"\"\n",
    "    # Get embedding for query\n",
    "    query_embedding = get_titan_embeddings(query)\n",
    "    query_embedding = np.expand_dims(query_embedding, axis=0)\n",
    "    \n",
    "    # Search the index\n",
    "    distances, indices = index.search(query_embedding, k)\n",
    "    \n",
    "    # Return results with metadata\n",
    "    results = []\n",
    "    for i, dist in zip(indices[0], distances[0]):\n",
    "        results.append({\n",
    "            \"score\": dist,  # Titan returns cosine similarity directly\n",
    "            \"text\": text_chunks[i],\n",
    "            \"metadata\": metadata[i]\n",
    "        })\n",
    "    \n",
    "    return results"
   ]
  },
  {
   "cell_type": "code",
   "execution_count": null,
   "metadata": {},
   "outputs": [],
   "source": [
    "# %%\n",
    "# Test search\n",
    "sample_query = \"price of Peace Lily\"\n",
    "results = search_index(sample_query, test_index, metadata)\n",
    "print(f\"Top result for '{sample_query}':\")\n",
    "print(results[0]['text'][:300] + \"...\")  # Print first 200 chars of top result\n",
    "\n",
    "\n"
   ]
  },
  {
   "cell_type": "code",
   "execution_count": null,
   "metadata": {},
   "outputs": [],
   "source": []
  },
  {
   "cell_type": "code",
   "execution_count": null,
   "metadata": {},
   "outputs": [],
   "source": []
  },
  {
   "cell_type": "code",
   "execution_count": null,
   "metadata": {},
   "outputs": [],
   "source": []
  },
  {
   "cell_type": "code",
   "execution_count": null,
   "metadata": {},
   "outputs": [],
   "source": []
  }
 ],
 "metadata": {
  "kernelspec": {
   "display_name": "chatbot",
   "language": "python",
   "name": "python3"
  },
  "language_info": {
   "codemirror_mode": {
    "name": "ipython",
    "version": 3
   },
   "file_extension": ".py",
   "mimetype": "text/x-python",
   "name": "python",
   "nbconvert_exporter": "python",
   "pygments_lexer": "ipython3",
   "version": "3.11.11"
  }
 },
 "nbformat": 4,
 "nbformat_minor": 2
}
