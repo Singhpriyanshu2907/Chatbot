{
 "cells": [
  {
   "cell_type": "code",
   "execution_count": 1,
   "metadata": {},
   "outputs": [
    {
     "data": {
      "text/plain": [
       "True"
      ]
     },
     "execution_count": 1,
     "metadata": {},
     "output_type": "execute_result"
    }
   ],
   "source": [
    "import firebase_admin\n",
    "from firebase_admin import credentials,storage\n",
    "from firebase_admin import db\n",
    "import os\n",
    "import sys\n",
    "import json\n",
    "import pandas as pd\n",
    "import dotenv\n",
    "dotenv.load_dotenv()"
   ]
  },
  {
   "cell_type": "code",
   "execution_count": 2,
   "metadata": {},
   "outputs": [],
   "source": [
    "service_account_info = {\n",
    "    \"type\": os.getenv(\"type\"),\n",
    "    \"project_id\": os.getenv(\"project_id\"),\n",
    "    \"private_key_id\": os.getenv(\"private_key_id\"),\n",
    "    \"private_key\": os.getenv(\"private_key\"),\n",
    "    \"client_email\": os.getenv(\"client_email\"),\n",
    "    \"client_id\": os.getenv(\"client_id\"),\n",
    "    \"auth_uri\": os.getenv(\"auth_uri\"),\n",
    "    \"token_uri\": os.getenv(\"token_uri\"),\n",
    "    \"auth_provider_x509_cert_url\": os.getenv(\"auth_provider_x509_cert_url\"),\n",
    "    \"client_x509_cert_url\": os.getenv(\"client_x509_cert_url\"),\n",
    "    \"universe_domain\": os.getenv(\"universe_domain\")\n",
    "}"
   ]
  },
  {
   "cell_type": "code",
   "execution_count": 3,
   "metadata": {},
   "outputs": [],
   "source": [
    "# Only initialize if the app isn’t already initialized\n",
    "if not firebase_admin._apps:\n",
    "    cred = credentials.Certificate(service_account_info)\n",
    "    firebase_admin.initialize_app(cred, {\n",
    "        'databaseURL': 'https://plantify-chatbot-default-rtdb.firebaseio.com/'\n",
    "    })"
   ]
  },
  {
   "cell_type": "code",
   "execution_count": 4,
   "metadata": {},
   "outputs": [],
   "source": [
    "products_collection = db.reference('products')"
   ]
  },
  {
   "cell_type": "code",
   "execution_count": 5,
   "metadata": {},
   "outputs": [
    {
     "name": "stdout",
     "output_type": "stream",
     "text": [
      "https://plantify-chatbot-default-rtdb.firebaseio.com/\n"
     ]
    }
   ],
   "source": [
    "app = firebase_admin.get_app()\n",
    "print(app.options.get('databaseURL')) "
   ]
  },
  {
   "cell_type": "code",
   "execution_count": 7,
   "metadata": {},
   "outputs": [],
   "source": [
    "df = pd.read_json(r'A:\\NLP Projects\\Chatbot\\python_code\\products\\product.json')"
   ]
  },
  {
   "cell_type": "code",
   "execution_count": 45,
   "metadata": {},
   "outputs": [
    {
     "data": {
      "text/html": [
       "<div>\n",
       "<style scoped>\n",
       "    .dataframe tbody tr th:only-of-type {\n",
       "        vertical-align: middle;\n",
       "    }\n",
       "\n",
       "    .dataframe tbody tr th {\n",
       "        vertical-align: top;\n",
       "    }\n",
       "\n",
       "    .dataframe thead th {\n",
       "        text-align: right;\n",
       "    }\n",
       "</style>\n",
       "<table border=\"1\" class=\"dataframe\">\n",
       "  <thead>\n",
       "    <tr style=\"text-align: right;\">\n",
       "      <th></th>\n",
       "      <th>name</th>\n",
       "      <th>category</th>\n",
       "      <th>description</th>\n",
       "      <th>price</th>\n",
       "      <th>rating</th>\n",
       "    </tr>\n",
       "  </thead>\n",
       "  <tbody>\n",
       "    <tr>\n",
       "      <th>0</th>\n",
       "      <td>White Butterfly (Syngonium Podophyllum)</td>\n",
       "      <td>Plant</td>\n",
       "      <td>A beautiful and easy-to-care-for houseplant wi...</td>\n",
       "      <td>₹100</td>\n",
       "      <td>4.5</td>\n",
       "    </tr>\n",
       "    <tr>\n",
       "      <th>1</th>\n",
       "      <td>Peace Lily</td>\n",
       "      <td>Plant</td>\n",
       "      <td>An elegant flowering plant known for its air-p...</td>\n",
       "      <td>₹150</td>\n",
       "      <td>4.7</td>\n",
       "    </tr>\n",
       "  </tbody>\n",
       "</table>\n",
       "</div>"
      ],
      "text/plain": [
       "                                      name category  \\\n",
       "0  White Butterfly (Syngonium Podophyllum)    Plant   \n",
       "1                               Peace Lily    Plant   \n",
       "\n",
       "                                         description price  rating  \n",
       "0  A beautiful and easy-to-care-for houseplant wi...  ₹100     4.5  \n",
       "1  An elegant flowering plant known for its air-p...  ₹150     4.7  "
      ]
     },
     "execution_count": 45,
     "metadata": {},
     "output_type": "execute_result"
    }
   ],
   "source": [
    "df.head(2)"
   ]
  },
  {
   "cell_type": "code",
   "execution_count": 8,
   "metadata": {},
   "outputs": [
    {
     "name": "stdout",
     "output_type": "stream",
     "text": [
      "Uploaded: White Butterfly (Syngonium Podophyllum)\n",
      "Uploaded: Peace Lily\n",
      "Uploaded: Chlorophytum Spider Plant\n",
      "Uploaded: Money Plant Marble Prince\n",
      "Uploaded: Snake Plant (Sansevieria)\n",
      "Uploaded: Aglaonema Lipstick\n",
      "Uploaded: Jade Plant (Portulacaria afra)\n",
      "Uploaded: Rubber Tree (Ficus elastica)\n",
      "Uploaded: Krishna Tulsi Plant(Black)\n",
      "Uploaded: Lemon Grass\n",
      "Uploaded: Curry Leaves\n",
      "Uploaded: Rama Tulsi Plant\n",
      "Uploaded: Ajwain Leaves\n",
      "Uploaded: Mentha Arvensis (Japanese Mint)\n",
      "Uploaded: Black Turmeric Plant (Black Haldi)\n",
      "Uploaded: Bhuiamla\n",
      "Uploaded: Wild Asparagus\n",
      "Uploaded: Jasminum sambac\n",
      "Uploaded: Parijat Tree\n",
      "Uploaded: Rose\n",
      "Uploaded: Raat Rani\n",
      "Uploaded: Shevanti\n",
      "Uploaded: Marigold (Orange)\n",
      "Uploaded: Champa (White)\n",
      "Uploaded: Rajnigandha\n",
      "Uploaded: Fragrant Panama rose\n",
      "Uploaded: Pincushion Cactus\n",
      "Uploaded: Bunny Ear Cactus\n",
      "Uploaded: Echinopsis chamaecereus - Cactus\n",
      "Uploaded: Golden Pipe Cactus\n",
      "Uploaded: Moon Cactus (Grafted)\n",
      "Uploaded: Graptoveria opalina - Succulent Plant\n",
      "Uploaded: Crassula tetragona - Succulent Plant\n",
      "Uploaded: Aloevera\n",
      "Uploaded: Euphorbia (Red)\n",
      "Uploaded: Vermicompost\n",
      "Uploaded: Vermicompost Mixture\n",
      "Uploaded: Dec-Neemo (Bio-fertilizer)\n",
      "Uploaded: Dec-Mori (Bio-fertilizer)\n",
      "Uploaded: Agni Shield\n"
     ]
    }
   ],
   "source": [
    "for index, row in df.iterrows():\n",
    "    product_data = row.to_dict()\n",
    "    new_ref = products_collection.push()  # create a new unique child\n",
    "    new_ref.set(product_data)\n",
    "    print(f\"Uploaded: {row['name']}\")"
   ]
  },
  {
   "cell_type": "code",
   "execution_count": null,
   "metadata": {},
   "outputs": [],
   "source": []
  },
  {
   "cell_type": "code",
   "execution_count": null,
   "metadata": {},
   "outputs": [],
   "source": []
  },
  {
   "cell_type": "code",
   "execution_count": null,
   "metadata": {},
   "outputs": [],
   "source": []
  }
 ],
 "metadata": {
  "kernelspec": {
   "display_name": "chatbot",
   "language": "python",
   "name": "python3"
  },
  "language_info": {
   "codemirror_mode": {
    "name": "ipython",
    "version": 3
   },
   "file_extension": ".py",
   "mimetype": "text/x-python",
   "name": "python",
   "nbconvert_exporter": "python",
   "pygments_lexer": "ipython3",
   "version": "3.11.11"
  }
 },
 "nbformat": 4,
 "nbformat_minor": 2
}
